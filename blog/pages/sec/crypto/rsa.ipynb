{
 "cells": [
  {
   "attachments": {},
   "cell_type": "markdown",
   "metadata": {},
   "source": [
    "# Matematický aparát pro RSA\n",
    "\n",
    "## Eulerova funkce $\\phi$\n",
    "Nechť $c\\in \\mathbb{N}$, **Eulerova funkce** $\\phi$ udává počet čísel $k\\in \\{1,..,c-1\\}$, která jsou nesoudělná s $c$ ( $\\gcd(c,k)=1$ ).\n",
    "$$\n",
    "\\phi(c) = n \\Leftrightarrow \\\\\n",
    "\\exists o\\in \\widehat{c-1}\\ \\forall i \\in o : |o|=n \\wedge \\gcd(c,i)=1 \n",
    "\\\\ \\wedge \\\\\n",
    "\\forall o\\in \\widehat{c-1}\\ \\exists i \\in o : |o|>n \\rightarrow  \\gcd(c,i)\\neq 1\n",
    "$$\n",
    "Pro výpočet eulerovy funkce lze využít rozkladu na prvočinitele, následujícím způsobem\n",
    "$$\n",
    "\\phi(c) = \\sum_{\\forall p \\in P} (p-1)\n",
    "$$\n",
    ", kde $P$ je množina všech prvnočíslených dělitelů $c$.\n",
    "\n",
    "---\n",
    "## Definice (z FIT CVUT)\n",
    "\n",
    "### Eulerova funkce $\\phi(n)$\n",
    "Eulerova funkce $\\phi(n) : \\mathbb{N^+} → \\mathbb{N^+}$ udává počet kladných celých čı́sel menšı́ch nebo rovných $n$, která jsou nesoudělná s $n$.\n",
    "\n",
    "### Věta o $\\phi(m · n)$\n",
    "Nechť $m, n \\in \\mathbb{N}$ a $\\gcd(m, n)=1$. Potom $\\phi(m · n) = \\phi(m) · \\phi(n)$\n",
    "\n",
    "#### Pozorování\n",
    "\n",
    "Nechť $n = p_1^{\\alpha_1} . p_2^{\\alpha_2} ... p_k^{\\alpha_k}$ je kanonický rozklad složeného čı́sla $n \\in \\mathbb{N^+}$. Potom $\\phi = n(1-\\frac{1}{p_1})(1-\\frac{1}{p_2})(1-\\frac{1}{p_k})$\n",
    "\n",
    "\n",
    "#### Dusledek\n",
    "Dusledek 3. vede na vztah $\\phi(c) = \\sum_{\\forall p \\in P} (p-1)$\n",
    "$$\n",
    "\\phi(n) = n * \\Pi_{\\forall p_i \\in P}(1-\\frac{1}{p_i}) \\\\\n",
    "\\phi(n) = n * \\Pi(\\frac{p_i-1}{p_i}) = n * \\Pi(\\frac{1}{p_1}) * \\Pi(\\frac{p_i-1}{1}) = n * \\frac{1}{n} *\\Pi(\\frac{p_i-1}{1})\\\\\n",
    "\\phi(n) = \\Pi_{\\forall p_i \\in P}(p_i-1)\n",
    "$$"
   ]
  },
  {
   "attachments": {},
   "cell_type": "markdown",
   "metadata": {},
   "source": [
    "## Složitost problému faktorizace\n",
    "Faktorizace čísla na prvočinitele je třídy NP problém\n",
    "\n",
    "Neexistuje a nepředpokládá se existence algoritmu, který dokáže faktorizaci plnit v polynomiálním čase.\n",
    "\n",
    "[zdroj](https://stackoverflow.com/a/2642528/10209148)\n",
    "\n",
    "## Sloitost problému výpočtu eulerovy funkce $\\phi(n)$\n",
    "Výpočtu eulerovy funkce je $O(\\sqrt{n})$\n",
    "\n",
    "**??Zdroj??**"
   ]
  },
  {
   "attachments": {},
   "cell_type": "markdown",
   "metadata": {},
   "source": [
    "---"
   ]
  },
  {
   "attachments": {},
   "cell_type": "markdown",
   "metadata": {},
   "source": [
    "## RSA\n",
    "- Let $p$ and $q$ be large prime numbers.\n",
    "- Let $n=p*q$\n",
    "- Choose $e$ be number that satisfy: $1<e<n, \\gcd(e,\\phi(n))=1$ \n",
    "- Let $d=|e^{-1}|_{\\Phi(n)}$\n",
    "\n",
    "Private key is par of $SK=(n,d)$\n",
    "\n",
    "Public key is par of $PK=(n,e)$\n",
    "\n",
    "### Process of encription\n",
    "$c = |m^e|_n$\n",
    "\n",
    "### Process of decription\n",
    "$m = |c^d|_n = |(|m^e|_{n})^d|_n = |m^{e^d}|_n = |m^{e*d}|_n = |m^1|_n$"
   ]
  },
  {
   "cell_type": "code",
   "execution_count": 13,
   "metadata": {},
   "outputs": [],
   "source": [
    "# Vypocet mocnin v modulu\n",
    "#https://stackoverflow.com/questions/4798654/modular-multiplicative-inverse-function-in-python\n",
    "def modinv(a, m):\n",
    "    def egcd(a, b):\n",
    "        if a == 0:\n",
    "            return (b, 0, 1)\n",
    "        else:\n",
    "            g, y, x = egcd(b % a, a)\n",
    "            return (g, x - (b // a) * y, y)\n",
    "    g, x, y = egcd(a, m)\n",
    "    \n",
    "    if g != 1:\n",
    "        raise Exception('modular inverse does not exist')\n",
    "    else:\n",
    "        return x % m"
   ]
  },
  {
   "cell_type": "code",
   "execution_count": null,
   "metadata": {},
   "outputs": [],
   "source": [
    "p=297801375689990896481365079840784910951\n",
    "q=337830217479069994210092116932742172839\n",
    "n=p*q\n",
    "e=65_537\n",
    "\n",
    "phi=(p-1)*(q-1)\n",
    "\n",
    "d=modinv(e,phi)"
   ]
  },
  {
   "cell_type": "code",
   "execution_count": 15,
   "metadata": {},
   "outputs": [
    {
     "name": "stdout",
     "output_type": "stream",
     "text": [
      "========\n",
      "Private Key = (n,d) = (100606303514915852613885507460409931526068760452003533580079596327680865859889, 29781074632488022654521550341516283497770766129993572641013929522858879293473)\n",
      "Public Key = (n,e) = (100606303514915852613885507460409931526068760452003533580079596327680865859889, 65537)\n",
      "========\n"
     ]
    }
   ],
   "source": [
    "print(\"========\")\n",
    "print(f\"Private Key = (n,d) = {(n,d)}\")\n",
    "print(f\"Public Key = (n,e) = {(n,e)}\")\n",
    "print(\"========\")"
   ]
  },
  {
   "cell_type": "code",
   "execution_count": 16,
   "metadata": {},
   "outputs": [],
   "source": [
    "def crypt(barray: bytes, endianity: str = \"little\") -> bytes:\n",
    "    plain=int.from_bytes(barray, endianity)\n",
    "    crypt = pow(plain,e,n)\n",
    "    return crypt.to_bytes((crypt.bit_length() + 7) // 8,endianity) \\\n",
    "           or b'\\0' #https://stackoverflow.com/a/31761722/10209148\n",
    "\n",
    "\n",
    "def decrypt(barray: bytes, endianity: str = \"little\") -> bytes:\n",
    "    crypt=int.from_bytes(barray, endianity)\n",
    "    plain = pow(crypt,d,n)\n",
    "    return plain.to_bytes((plain.bit_length() + 7) // 8,endianity) \\\n",
    "           or b'\\0' #https://stackoverflow.com/a/31761722/10209148\n"
   ]
  },
  {
   "cell_type": "code",
   "execution_count": 17,
   "metadata": {},
   "outputs": [
    {
     "name": "stdout",
     "output_type": "stream",
     "text": [
      "cypher_bytes: b'k<.\\xaf\\xf0\\xc3\\x1cyz\\xf8\\xae\\xd6\\x87&]\\xab\\xc4\\xe1j\\xb0\\xef>2\\x97!\\xa3\\x9bD\\xcd\\x0e\\xd1\\x1f'\n",
      "plain_bytes: b'super_a_cuper_tajny_heslo'\n",
      "plain_text: super_a_cuper_tajny_heslo\n"
     ]
    }
   ],
   "source": [
    "message=\"super_a_cuper_tajny_heslo\"\n",
    "\n",
    "c_text = crypt(message.encode())\n",
    "print(f\"cypher_bytes: {c_text}\")\n",
    "plain = decrypt(c_text)\n",
    "print(f\"plain_bytes: {plain}\")\n",
    "print(f\"plain_text: {plain.decode()}\")\n"
   ]
  },
  {
   "attachments": {},
   "cell_type": "markdown",
   "metadata": {},
   "source": [
    "### Bonus\n",
    "Použitá prvnočísla $p$ a $q$ jsou malá ($\\pm 100b$). Toto je bezpečnostní problém, tyto čísla nám nezaručí výpočetní bezpečnost. Ze znalosti veřejného klíče $(e,n)$, lze pomocí faktorizace nálézt čísla $p$ a $q$ a tím dopočítat klíč veřejný.\n",
    "\n",
    "Následující kód demostruje faktorizaci."
   ]
  },
  {
   "cell_type": "code",
   "execution_count": 18,
   "metadata": {},
   "outputs": [],
   "source": [
    "from functools import reduce\n",
    "\n",
    "def factors(n):    \n",
    "    return set(reduce(list.__add__, ([i, n//i] for i in range(1, int(n**0.5) + 1) if n % i == 0)))\n",
    "#factors(n)"
   ]
  },
  {
   "attachments": {},
   "cell_type": "markdown",
   "metadata": {},
   "source": [
    "---\n",
    "\n",
    "## TODO\n",
    "- padding"
   ]
  }
 ],
 "metadata": {
  "kernelspec": {
   "display_name": "Python 3",
   "language": "python",
   "name": "python3"
  },
  "language_info": {
   "codemirror_mode": {
    "name": "ipython",
    "version": 3
   },
   "file_extension": ".py",
   "mimetype": "text/x-python",
   "name": "python",
   "nbconvert_exporter": "python",
   "pygments_lexer": "ipython3",
   "version": "3.11.2"
  },
  "orig_nbformat": 4
 },
 "nbformat": 4,
 "nbformat_minor": 2
}
